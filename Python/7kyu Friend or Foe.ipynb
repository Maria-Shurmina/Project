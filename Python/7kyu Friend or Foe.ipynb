{
 "cells": [
  {
   "cell_type": "markdown",
   "metadata": {},
   "source": [
    "Создайте программу, которая фильтрует список строк и возвращает список, содержащий только имена ваших друзей.\n",
    "\n",
    "Если в имени ровно 4 буквы, то это точно ваш друг! В противном случае, будьте уверены, это не..."
   ]
  },
  {
   "cell_type": "code",
   "execution_count": 8,
   "metadata": {},
   "outputs": [],
   "source": [
    "input_names = {\"Jimm\", \"Cari\", \"aret\", \"truehdnviegkwgvke\", \"sixtyiscooooool\"}"
   ]
  },
  {
   "cell_type": "code",
   "execution_count": 9,
   "metadata": {},
   "outputs": [
    {
     "name": "stdout",
     "output_type": "stream",
     "text": [
      "['Cari', 'aret', 'Jimm']\n"
     ]
    }
   ],
   "source": [
    "def filter_friends(names):\n",
    "    friends = [name for name in names if len(name) == 4]\n",
    "    return friends\n",
    "\n",
    "friends_list = filter_friends(input_names)\n",
    "print(friends_list)"
   ]
  }
 ],
 "metadata": {
  "kernelspec": {
   "display_name": "Python 3",
   "language": "python",
   "name": "python3"
  },
  "language_info": {
   "codemirror_mode": {
    "name": "ipython",
    "version": 3
   },
   "file_extension": ".py",
   "mimetype": "text/x-python",
   "name": "python",
   "nbconvert_exporter": "python",
   "pygments_lexer": "ipython3",
   "version": "3.9.13"
  }
 },
 "nbformat": 4,
 "nbformat_minor": 2
}
